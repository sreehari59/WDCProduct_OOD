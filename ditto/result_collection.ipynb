{
 "cells": [
  {
   "cell_type": "code",
   "execution_count": null,
   "id": "982e523c",
   "metadata": {},
   "outputs": [],
   "source": [
    "import os\n",
    "import re \n",
    "import pandas as pd\n",
    "import json\n",
    "import ast\n",
    "directory = os.fsencode('./output')"
   ]
  },
  {
   "cell_type": "code",
   "execution_count": null,
   "id": "5fdc7b80",
   "metadata": {},
   "outputs": [],
   "source": [
    "result_list = []\n",
    "for file in os.listdir(directory):\n",
    "    filename = os.fsdecode(file)\n",
    "    if filename.endswith(\".txt\"): \n",
    "        with open(os.path.join(directory, file), \"r\") as myfile: \n",
    "            dictionary = ast.literal_eval(myfile.read())\n",
    "            f1 = (\"{:.2f}\".format(dictionary['best_f1'] * 100))\n",
    "\n",
    "        filename = filename[6:-4]\n",
    "\n",
    "        regexp_1 = re.compile(r\"(.*)un_lm=roberta_da=del_dk=None_su=False_size=None_id=(.*)\")\n",
    "        re_match = regexp_1.match(filename)\n",
    "        if (re_match):\n",
    "            list_match = list(re_match.groups())\n",
    "            list_match.append(float(f1))\n",
    "            result_list.append(list_match)\n",
    "\n",
    "df = pd.DataFrame(result_list, columns=['data', 'f1', 'id'])\n",
    "df = df.sort_values(by=['data', 'id'])\n",
    "df = df.groupby(['data'])['f1'].mean().reset_index()\n",
    "\n",
    "df.to_csv('results.csv', encoding='utf-8', index=False)"
   ]
  }
 ],
 "metadata": {
  "kernelspec": {
   "display_name": "Python 3 (ipykernel)",
   "language": "python",
   "name": "python3"
  },
  "language_info": {
   "codemirror_mode": {
    "name": "ipython",
    "version": 3
   },
   "file_extension": ".py",
   "mimetype": "text/x-python",
   "name": "python",
   "nbconvert_exporter": "python",
   "pygments_lexer": "ipython3",
   "version": "3.9.12"
  },
  "vscode": {
   "interpreter": {
    "hash": "378f5ca2fb65fb71205b60ca0e5dd58b8abec09bd391cd47886dadc212764ff3"
   }
  }
 },
 "nbformat": 4,
 "nbformat_minor": 5
}
